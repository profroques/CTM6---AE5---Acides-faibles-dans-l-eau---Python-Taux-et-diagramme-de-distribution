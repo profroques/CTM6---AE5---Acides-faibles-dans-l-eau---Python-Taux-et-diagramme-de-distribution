{
 "cells": [
  {
   "cell_type": "markdown",
   "metadata": {},
   "source": [
    "<div class=\"panel panel-primary\">\n",
    "    <div class=\"panel-heading\"><h2>Préambule :</h2></div>\n",
    "      <div class=\"panel-body\">\n",
    "Dans cette interface, vous allez découvrir des blocs de code qui composent un programme informatique complet.\n",
    "\n",
    "Afin de vous permettre de vous initier au codage et de vous faire participer à compléter ce programme informatique, le programme sera fragmenté par blocs. \n",
    "\n",
    "Ainsi, vous serez sollicité.e.s pour deux types d'action. <br>\n",
    "- un travail pour <i>exécuter</i> un bloc de programme informatique ;<br>\n",
    "- un travail pour <i>compléter</i> un bloc de programme informatique.<br>\n",
    "<br>\n",
    "Avant de commencer à découvrir le contenu du programme informatique proposé, je vous invite à prendre connaissance des différents types de consignes et des codes couleurs associés que vous allez rencontrer.\n",
    "      </div>\n",
    "</div>"
   ]
  },
  {
   "cell_type": "markdown",
   "metadata": {},
   "source": [
    "<div class=\"alert alert-info\" role=\"alert\">\n",
    "<b>Informations pour exécuter un bloc de programme informatique : </b> <br>\n",
    "<br><i>Avant</i> les blocs de programme qu'il faut simplément \"exécuter\", vous trouverez :<br>\n",
    "la consigne de travail sur un fond bleu avec une écriture en bleu foncé comme pour cette consigne.<br>\n",
    "\n",
    "Pour Exécuter le code dans un bloc de programme, il faut le sélectionner en cliquant sur la cellule du bloc, puis cliquer sur le bouton Run (ou Exécuter) <b>en haut de la page</b> ou bien en cliquant sur la flèche à côté de In (ou Entrée) si vous êtes sur tablettes ou smartphones.\n",
    "</div>"
   ]
  },
  {
   "cell_type": "markdown",
   "metadata": {},
   "source": [
    "![](bouton_executer.gif)"
   ]
  },
  {
   "cell_type": "markdown",
   "metadata": {},
   "source": [
    "<div class=\"alert alert-warning\">\n",
    "<b>Informations pour compléter un bloc de programme informatique: </b> <br>\n",
    "Certains blocs de codes doivent être complétés <span style='border:1px outset black'>avant</span> d'être exécutés afin de fonctionner convenablement.<br>\n",
    "<br><i>Avant</i> les blocs de programme qu'il faut \"compléter\", vous trouverez :<br>\n",
    "- la consigne de travail sur un fond jaune avec une écriture en brun - comme pour cette consigne.<br>\n",
    "\n",
    "Dans le bloc de programme à compléter vous remplacerez la mention \"-----A COMPLETER-----\" par le code adapté.<br>\n",
    "Dans certains cas, il est possible d'avoir des aides et/ou la solution.\n",
    "<br><b>ATTENTION : Une fois le programme complété, il faut alors exécuter le bloc de code correspondant.</b>\n",
    "</div>"
   ]
  },
  {
   "cell_type": "markdown",
   "metadata": {},
   "source": [
    "<h1> INTERFACE - Calcul du taux d'avancement - Term Spé PhyChim</h1>"
   ]
  },
  {
   "cell_type": "markdown",
   "metadata": {},
   "source": [
    "<div class=\"panel panel-default\">\n",
    "      <div class=\"panel-heading\"><h2>Calcul du taux d'avancement - Term Spé PhyChim</h2></div>\n",
    "       <div class=\"panel-body\">Tout d'abord, un rappel : ce programme a pour but de calculer le taux d'avancement de la réaction entre un acide faible AH (du couple AH/A<sup>-</sup>) avec l'eau (appartenant au couple H<sub>3</sub>O<sup>+</sup>). </div>\n",
    "<div class=\"panel-body\">           \n",
    "Dans cette interface, vous allez découvrir des blocs de code qui composent un programme informatique. Ce programme a pour but :</div>\n",
    "<div class=\"panel-body\">     \n",
    "1] de demander à l'opératrice ou à l'opérateur d'importer la librairie \"math\" permettant de faire calculs de logarithme de base 10.\n",
    "    </div>\n",
    "<div class=\"panel-body\">     \n",
    "2] de solliciter l'opératrice ou l'opérateur pour compléter un bloc de programme qui demande la saisie du pKA d'un couple acide faible/base AH/A<sup>-</sup>, de saisir la valeur de la concentration c<sub>a</sub> en acide apporté, de calculer la valeur du K<sub>A</sub> correspondant et de faire afficher la valeur du K<sub>A</sub>.\n",
    "    </div>\n",
    "<div class=\"panel-body\">     \n",
    "3] de compléter un bloc de code pour calculer la concentration en ion oxonium (notée h) et d'en déduire la valeur du pH en vue d'afficher ces deux valeurs.\n",
    "    </div>\n",
    "<div class=\"panel-body\">     \n",
    "4] de compléter un bloc de code pour calculer le taux d'avancement de la réaction entre un acide faible et l'eau, d'afficher cette valeur ainsi que la concentration finale de l'acide faible et de la base correspondante à l'état finale.\n",
    "    </div>\n",
    "<div class=\"panel-body\"> \n",
    "L'intégralité du programme (à compléter) est disponible dans l'énoncé du TP.          \n",
    "Afin de vous permettre de vous initier au codage et de vous faire participer pour compléter ce programme informatique, le programme sera donc fragmenté par bloc selon les modalités et consignes d'usages rappelées au début de cette page. \n",
    "    <br>\n"
   ]
  },
  {
   "cell_type": "markdown",
   "metadata": {},
   "source": [
    "<div class=\"alert alert-info\" role=\"alert\">\n",
    "<b>Travail à faire pour exécuter le bloc de programme suivant : </b> <br>\n",
    "    Le bloc suivant permet d'importer la libraire \"math\" et d'écrire l'avertissement de mettre un . pour la , dans les valeurs comportant des décimales.<br>\n",
    "\n",
    "Exécuter le code suivant.<br>\n",
    "Pour Exécuter le code dans la cellule ci-dessus, le sélectionner-le en cliquant sur la cellule, puis cliquer sur le bouton Run (ou Exécuter) en haut de la page ou bien en cliquant sur la flèche à côté de In (ou Entrée) si vous êtes sur tablettes ou smartphones.\n",
    "<br><b>Si le code est exécuté convenablement, le texte \"Attention : le separateur decimal est le point\" appartait</b>\n",
    "</div>"
   ]
  },
  {
   "cell_type": "code",
   "execution_count": null,
   "metadata": {
    "scrolled": true
   },
   "outputs": [],
   "source": [
    "from math import *\n",
    "\n",
    "print(\"\")\n",
    "print(\"Attention : le separateur decimal est le point\")\n",
    "print(\"\")\n"
   ]
  },
  {
   "cell_type": "markdown",
   "metadata": {},
   "source": [
    "<div class=\"alert alert-warning\">\n",
    "<b>TRAVAIL À FAIRE POUR COMPLÉTER LE BLOC SUIVANT </b> <br>\n",
    "<br>\n",
    "    Le bloc de programme suivant permet de demander la saisie du pK<sub>A</sub> du couple acide/base étudié, de sa concentration c<sub>a</sub> en acide apporté, de calculer la constante d'acidité K<sub>A</sub> et d'afficher sa valeur.\n",
    "    \n",
    "<br>\n",
    "<br>\n",
    "\n",
    "<br>\n",
    "<br>\n",
    "Remplacez alors la mention \"-----A COMPLETER-----\" par une exprssion adaptée.\n",
    "\n",
    "<br>\n",
    "<br>\n",
    "\n",
    "<br>\n",
    "<b>ATTENTION : Une fois le programme complété, il faut alors exécuter le bloc de code correspondant. Le programme est exécité convenablement si la valeur de la constante d'acidité calculée s'affiche.</b>\n",
    "</div>"
   ]
  },
  {
   "cell_type": "markdown",
   "metadata": {},
   "source": [
    "<details>\n",
    "<summary>Aide</summary>\n",
    "<p>Vous devez compléter la ligne n°4 en remplaçant la mention \"---A COMPLETER----\" par le nom de la variable correspondant à la constante d'acidité.</p>\n",
    "</details>\n",
    "\n",
    "<details>\n",
    "<summary>Solution</summary>\n",
    "<p>On modifie alors la mention ---A COMPLETER---- de la ligne n°4 de la manière suivante : <br></p>\n",
    "\n",
    "<p>\n",
    "<br>print(\"la constante d'acidité vaut :\",format(Ka,\"3.2E\"),\"mol/L\")</p>\n",
    "</details>"
   ]
  },
  {
   "cell_type": "code",
   "execution_count": null,
   "metadata": {},
   "outputs": [],
   "source": [
    "pKa=float(input(\"pKa du couple avec un point pour la décimale : \"))\n",
    "concentration=float(input(\"Concentration apportee en mol/L en notant la lettre E pour *10^ et un point pour la décimale : \"))\n",
    "Ka=10**(-pKa)\n",
    "print(\"la constante d'acidité vaut :\",format(Ka,\"3.2E\")) # permet d'afficher la valeur avec 3 CS et 2 décimales\n"
   ]
  },
  {
   "cell_type": "markdown",
   "metadata": {},
   "source": [
    "<div class=\"alert alert-warning\">\n",
    "<b>TRAVAIL À FAIRE POUR COMPLÉTER LE BLOC SUIVANT </b> <br>\n",
    "<br>\n",
    "    L'équation du second degré avec comme inconnue la concentation <i>h</i> en ion oxonium est de la forme :<br>\n",
    "    a*<i>h</i><sup>2</sup>+b*<i>h</i>+c=0. <br> Le bloc de programme suivant permet de saisir les expressions de a, b et c en fonction des expressions des variables de la constante d'acidité et de la concentration en acide apporté, de calculer le discriminant (nommé \"Delta\") de l'équation du second degré en concentration d'ion oxonium, de résoudre cette équation en proposant une solution positive pour la concentration en ion oxonium et d'afficher la valeur de cette concentration.\n",
    "    \n",
    "<br>\n",
    "<br>\n",
    "\n",
    "<br>\n",
    "<br>\n",
    "Remplacer alors chaque mention \"-----A COMPLETER-----\" par une expression adaptée.\n",
    "\n",
    "<br>\n",
    "<br>\n",
    "\n",
    "<br>\n",
    "<b>ATTENTION : Une fois le programme complété, il faut alors exécuter le bloc de code correspondant.</b>\n",
    "</div>"
   ]
  },
  {
   "cell_type": "markdown",
   "metadata": {},
   "source": [
    "<details>\n",
    "<summary>Aide</summary>\n",
    "<p>Vous devez compléter les lignes 3, 4 et 5 en remplaçant la mention \"---A COMPLETER----\" par l'expression des coefficients a, b et c de l'équation de second degré en fonction des variables Ka et concentration.</p>\n",
    "</details>\n",
    "\n",
    "<details>\n",
    "<summary>Solution</summary>\n",
    "<p>Remplir les lignes 3, 4 et 5 de la manière suivante : <br></p>\n",
    "a=1<br>\n",
    "b=Ka<br>\n",
    "c=-Ka*concentration<br>\n",
    "<p>\n",
    "</details>"
   ]
  },
  {
   "cell_type": "code",
   "execution_count": null,
   "metadata": {},
   "outputs": [],
   "source": [
    "### A MODIFIER ###\n",
    "### Coefficients du polynome du deuxieme degre\n",
    "a=-----A COMPLETER-----\n",
    "b=-----A COMPLETER-----\n",
    "c=-----A COMPLETER-----\n",
    "### Discriminant\n",
    "Delta=b**2-4*a*c # b**2 correspond à la synthaxe pour le calcul de b au carré\n",
    "### Solution pour [H3O+]\n",
    "h=(-b+sqrt(Delta))/(2*a)\n",
    "print (\"la concentration en ion oxonium vaut :\",format(h,\"3.2E\"),\"mol/L\")\n",
    "pH= - log10(h)\n",
    "print(\"pH final :\",round(pH,2))\n",
    "\n"
   ]
  },
  {
   "cell_type": "markdown",
   "metadata": {},
   "source": [
    "<div class=\"alert alert-warning\">\n",
    "<b>TRAVAIL À FAIRE POUR COMPLÉTER LE BLOC SUIVANT </b> <br>\n",
    "<br>\n",
    "Le bloc de programme suivant permet calculer le taux d'avancement (noté tau), d'afficher sa valeur ainsi que la concentration de l'acide faible et de sa base à l'état finale.\n",
    "    \n",
    "<br>\n",
    "<br>\n",
    "\n",
    "<br>\n",
    "<br>\n",
    "Remplacer chaque mention \"-----A COMPLETER-----\" par une expression adaptée.\n",
    "\n",
    "<br>\n",
    "<br>\n",
    "\n",
    "<br>\n",
    "<b>ATTENTION : Une fois le programme complété, il faut alors exécuter le bloc de code correspondant.</b>\n",
    "</div>"
   ]
  },
  {
   "cell_type": "markdown",
   "metadata": {},
   "source": [
    "<details>\n",
    "<summary>Aide</summary>\n",
    "<p>Vous devez compléter les lignes 2, 5 et 6 en remplaçant la mention \"---A COMPLETER----\" par des expressions adaptées pour respectivement calculer le taux d'avancement, afficher la valeur de la concentation de l'acide et celle de la base à l'équilibre.</p>\n",
    "</details>\n",
    "\n",
    "<details>\n",
    "<summary>Solution</summary>\n",
    "<p>Remplir les lignes 3, 5 et 6 de la manière suivante : <br></p>\n",
    "tau=h/concentration <br>\n",
    "print(\"Concentration finale de l'acide :\",format(concentration-h,\"3.2E\"),\"mol/L\")<br>\n",
    "print(\"Concentration finale de la base :\",format(h,\"3.2E\"),\"mol/L\")<br>\n",
    "<p>\n",
    "</details>"
   ]
  },
  {
   "cell_type": "code",
   "execution_count": null,
   "metadata": {
    "scrolled": true
   },
   "outputs": [],
   "source": [
    "\n",
    "tau=-----A COMPLETER-----\n",
    "print(\"\")\n",
    "print(\"Taux d'avancement final :\",round(tau*100,2),\"%\")\n",
    "print(\"Concentration finale de l'acide :\",format(-----A COMPLETER-----,\"3.2E\"),\"mol/L\")\n",
    "print(\"Concentration finale de la base :\",format(-----A COMPLETER-----,\"3.2E\"),\"mol/L\")\n",
    "\n",
    "\n",
    "\n"
   ]
  },
  {
   "cell_type": "code",
   "execution_count": null,
   "metadata": {},
   "outputs": [],
   "source": []
  }
 ],
 "metadata": {
  "kernelspec": {
   "display_name": "Python 3",
   "language": "python",
   "name": "python3"
  },
  "language_info": {
   "codemirror_mode": {
    "name": "ipython",
    "version": 3
   },
   "file_extension": ".py",
   "mimetype": "text/x-python",
   "name": "python",
   "nbconvert_exporter": "python",
   "pygments_lexer": "ipython3",
   "version": "3.7.4"
  }
 },
 "nbformat": 4,
 "nbformat_minor": 2
}
